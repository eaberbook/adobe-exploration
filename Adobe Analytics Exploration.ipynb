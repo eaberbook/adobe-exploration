{
 "cells": [
  {
   "cell_type": "code",
   "execution_count": 1,
   "metadata": {},
   "outputs": [],
   "source": [
    "import omniture\n",
    "import matplotlib\n",
    "import pandas as pd"
   ]
  },
  {
   "cell_type": "code",
   "execution_count": 2,
   "metadata": {},
   "outputs": [
    {
     "name": "stderr",
     "output_type": "stream",
     "text": [
      "INFO:omniture.account:2018-07-11 11AM:13:33\n",
      "INFO:omniture.account:Request: Company.GetReportSuites  Parameters: {}\n"
     ]
    }
   ],
   "source": [
    "client = omniture.authenticate('ea923r:ATT', 'ec14bdbdc5f44f54f7f28e6ac3771df2')\n",
    "suite = client.suites['attconprod']"
   ]
  },
  {
   "cell_type": "code",
   "execution_count": 3,
   "metadata": {},
   "outputs": [
    {
     "name": "stderr",
     "output_type": "stream",
     "text": [
      "INFO:omniture.account:Request: Report.GetMetrics  Parameters: {'reportSuiteID': 'attconprod'}\n",
      "INFO:omniture.account:Request: Segments.Get  Parameters: {'accessLevel': 'shared'}\n",
      "INFO:omniture.account:Request: Report.Queue  Parameters: {'reportDescription': {'reportSuiteID': 'attconprod', 'dateFrom': '2018-06-01', 'dateTo': '2018-06-30', 'dateGranularity': 'day', 'metrics': [{'id': 'uniquevisitors'}], 'segments': [{'id': 's300000384_5b296a88f30aae698e8af9f0'}]}}\n"
     ]
    },
    {
     "name": "stdout",
     "output_type": "stream",
     "text": [
      "sync called\n",
      "Queing Report\n"
     ]
    },
    {
     "name": "stderr",
     "output_type": "stream",
     "text": [
      "INFO:omniture.account:Request: Report.Get  Parameters: {'reportID': 1775095433}\n"
     ]
    },
    {
     "name": "stdout",
     "output_type": "stream",
     "text": [
      "."
     ]
    },
    {
     "name": "stderr",
     "output_type": "stream",
     "text": [
      "INFO:omniture.account:Request: Report.Get  Parameters: {'reportID': 1775095433}\n",
      "INFO:omniture.account:Request: Report.Queue  Parameters: {'reportDescription': {'reportSuiteID': 'attconprod', 'dateFrom': '2018-06-01', 'dateTo': '2018-06-30', 'dateGranularity': 'day', 'metrics': [{'id': 'uniquevisitors'}], 'segments': [{'id': 's300000384_5b296aabbef0d3283a0dd578'}]}}\n"
     ]
    },
    {
     "name": "stdout",
     "output_type": "stream",
     "text": [
      "sync called\n",
      "Queing Report\n"
     ]
    },
    {
     "name": "stderr",
     "output_type": "stream",
     "text": [
      "INFO:omniture.account:Request: Report.Get  Parameters: {'reportID': 1825439904}\n"
     ]
    },
    {
     "name": "stdout",
     "output_type": "stream",
     "text": [
      "."
     ]
    },
    {
     "name": "stderr",
     "output_type": "stream",
     "text": [
      "INFO:omniture.account:Request: Report.Get  Parameters: {'reportID': 1825439904}\n",
      "INFO:omniture.account:Request: Report.Queue  Parameters: {'reportDescription': {'reportSuiteID': 'attconprod', 'dateFrom': '2018-06-01', 'dateTo': '2018-06-30', 'dateGranularity': 'day', 'metrics': [{'id': 'uniquevisitors'}], 'segments': [{'id': 's300000384_5b32851eb0178572c09e693e'}]}}\n"
     ]
    },
    {
     "name": "stdout",
     "output_type": "stream",
     "text": [
      "sync called\n",
      "Queing Report\n"
     ]
    },
    {
     "name": "stderr",
     "output_type": "stream",
     "text": [
      "INFO:omniture.account:Request: Report.Get  Parameters: {'reportID': 1604412995}\n"
     ]
    },
    {
     "name": "stdout",
     "output_type": "stream",
     "text": [
      "."
     ]
    },
    {
     "name": "stderr",
     "output_type": "stream",
     "text": [
      "INFO:omniture.account:Request: Report.Get  Parameters: {'reportID': 1604412995}\n",
      "INFO:omniture.account:Request: Report.Queue  Parameters: {'reportDescription': {'reportSuiteID': 'attconprod', 'dateFrom': '2018-06-01', 'dateTo': '2018-06-30', 'dateGranularity': 'day', 'metrics': [{'id': 'uniquevisitors'}], 'segments': [{'id': 's300000384_5b3287238b49b710a588833f'}]}}\n"
     ]
    },
    {
     "name": "stdout",
     "output_type": "stream",
     "text": [
      "sync called\n",
      "Queing Report\n"
     ]
    },
    {
     "name": "stderr",
     "output_type": "stream",
     "text": [
      "INFO:omniture.account:Request: Report.Get  Parameters: {'reportID': 1313506506}\n"
     ]
    },
    {
     "name": "stdout",
     "output_type": "stream",
     "text": [
      "."
     ]
    },
    {
     "name": "stderr",
     "output_type": "stream",
     "text": [
      "INFO:omniture.account:Request: Report.Get  Parameters: {'reportID': 1313506506}\n",
      "INFO:omniture.account:Request: Report.Queue  Parameters: {'reportDescription': {'reportSuiteID': 'attconprod', 'dateFrom': '2018-06-01', 'dateTo': '2018-06-30', 'dateGranularity': 'day', 'metrics': [{'id': 'cm300000384_5b33e3318f0c6570b2adae49'}], 'segments': [{'id': 's300000384_5b296a88f30aae698e8af9f0'}]}}\n"
     ]
    },
    {
     "name": "stdout",
     "output_type": "stream",
     "text": [
      "sync called\n",
      "Queing Report\n"
     ]
    },
    {
     "name": "stderr",
     "output_type": "stream",
     "text": [
      "INFO:omniture.account:Request: Report.Get  Parameters: {'reportID': 1476733049}\n"
     ]
    },
    {
     "name": "stdout",
     "output_type": "stream",
     "text": [
      "."
     ]
    },
    {
     "name": "stderr",
     "output_type": "stream",
     "text": [
      "INFO:omniture.account:Request: Report.Get  Parameters: {'reportID': 1476733049}\n"
     ]
    },
    {
     "name": "stdout",
     "output_type": "stream",
     "text": [
      "."
     ]
    },
    {
     "name": "stderr",
     "output_type": "stream",
     "text": [
      "INFO:omniture.account:Request: Report.Get  Parameters: {'reportID': 1476733049}\n",
      "INFO:omniture.account:Request: Report.Queue  Parameters: {'reportDescription': {'reportSuiteID': 'attconprod', 'dateFrom': '2018-06-01', 'dateTo': '2018-06-30', 'dateGranularity': 'day', 'metrics': [{'id': 'cm300000384_5b33e3318f0c6570b2adae49'}], 'segments': [{'id': 's300000384_5b296aabbef0d3283a0dd578'}]}}\n"
     ]
    },
    {
     "name": "stdout",
     "output_type": "stream",
     "text": [
      "sync called\n",
      "Queing Report\n"
     ]
    },
    {
     "name": "stderr",
     "output_type": "stream",
     "text": [
      "INFO:omniture.account:Request: Report.Get  Parameters: {'reportID': 1029909152}\n"
     ]
    },
    {
     "name": "stdout",
     "output_type": "stream",
     "text": [
      "."
     ]
    },
    {
     "name": "stderr",
     "output_type": "stream",
     "text": [
      "INFO:omniture.account:Request: Report.Get  Parameters: {'reportID': 1029909152}\n"
     ]
    },
    {
     "name": "stdout",
     "output_type": "stream",
     "text": [
      "."
     ]
    },
    {
     "name": "stderr",
     "output_type": "stream",
     "text": [
      "INFO:omniture.account:Request: Report.Get  Parameters: {'reportID': 1029909152}\n",
      "INFO:omniture.account:Request: Report.Queue  Parameters: {'reportDescription': {'reportSuiteID': 'attconprod', 'dateFrom': '2018-06-01', 'dateTo': '2018-06-30', 'dateGranularity': 'day', 'metrics': [{'id': 'cm300000384_5b33e3318f0c6570b2adae49'}], 'segments': [{'id': 's300000384_5b32851eb0178572c09e693e'}]}}\n"
     ]
    },
    {
     "name": "stdout",
     "output_type": "stream",
     "text": [
      "sync called\n",
      "Queing Report\n"
     ]
    },
    {
     "name": "stderr",
     "output_type": "stream",
     "text": [
      "INFO:omniture.account:Request: Report.Get  Parameters: {'reportID': 1716907281}\n"
     ]
    },
    {
     "name": "stdout",
     "output_type": "stream",
     "text": [
      "."
     ]
    },
    {
     "name": "stderr",
     "output_type": "stream",
     "text": [
      "INFO:omniture.account:Request: Report.Get  Parameters: {'reportID': 1716907281}\n",
      "INFO:omniture.account:Request: Report.Queue  Parameters: {'reportDescription': {'reportSuiteID': 'attconprod', 'dateFrom': '2018-06-01', 'dateTo': '2018-06-30', 'dateGranularity': 'day', 'metrics': [{'id': 'cm300000384_5b33e3318f0c6570b2adae49'}], 'segments': [{'id': 's300000384_5b3287238b49b710a588833f'}]}}\n"
     ]
    },
    {
     "name": "stdout",
     "output_type": "stream",
     "text": [
      "sync called\n",
      "Queing Report\n"
     ]
    },
    {
     "name": "stderr",
     "output_type": "stream",
     "text": [
      "INFO:omniture.account:Request: Report.Get  Parameters: {'reportID': 2000554886}\n"
     ]
    },
    {
     "name": "stdout",
     "output_type": "stream",
     "text": [
      "."
     ]
    },
    {
     "name": "stderr",
     "output_type": "stream",
     "text": [
      "INFO:omniture.account:Request: Report.Get  Parameters: {'reportID': 2000554886}\n"
     ]
    }
   ],
   "source": [
    "unique_visitors = {}\n",
    "thank_yous = {}\n",
    "segments = ['CRO 227 Control','CRO 227 Variant','CRO 239 V0','CRO 239 V1']\n",
    "\n",
    "for segment in segments:\n",
    "    report = suite.report \\\n",
    "        .range(start ='2018-06-01',days=30,granularity='day') \\\n",
    "        .metric('Unique Visitors') \\\n",
    "        .filter(segment) \\\n",
    "        .run() \n",
    "    unique_visitors[segment] = report.dataframe\n",
    "    #unique_visitors[segment].drop('datetime_friendly')\n",
    "    \n",
    "for segment in segments:\n",
    "    report = suite.report \\\n",
    "        .range(start='2018-06-01',days=30,granularity='day') \\\n",
    "        .metric('Thank You Hits') \\\n",
    "        .filter(segment) \\\n",
    "        .run() \n",
    "    thank_yous[segment] = report.dataframe\n",
    "    #thank_yous[segment].drop('datetime_friendly')"
   ]
  },
  {
   "cell_type": "code",
   "execution_count": 4,
   "metadata": {},
   "outputs": [],
   "source": [
    "# CRO 227\n",
    "# V0\n",
    "cro_227_v0 = unique_visitors['CRO 227 Control'].merge(thank_yous['CRO 227 Control'])\n",
    "cro_227_v0 = cro_227_v0.drop('datetime_friendly',axis=1)\n",
    "cro_227_v0.columns = ['date','unique_visitors','thank_yous']\n",
    "# V1\n",
    "cro_227_v1 = unique_visitors['CRO 227 Variant'].merge(thank_yous['CRO 227 Variant'])\n",
    "cro_227_v1 = cro_227_v1.drop('datetime_friendly',axis=1)\n",
    "cro_227_v1.columns = ['date','unique_visitors','thank_yous']"
   ]
  },
  {
   "cell_type": "code",
   "execution_count": 5,
   "metadata": {},
   "outputs": [],
   "source": [
    "cro_227_v0['cvr'] = (cro_227_v0['thank_yous'] / cro_227_v0['unique_visitors'])*100\n",
    "cro_227_v1['cvr'] = (cro_227_v1['thank_yous'] / cro_227_v1['unique_visitors'])*100\n",
    "cro_227_v0['test'] = 'cro_227_v0'\n",
    "cro_227_v1['test'] = 'cro_227_v1'"
   ]
  },
  {
   "cell_type": "code",
   "execution_count": 6,
   "metadata": {},
   "outputs": [],
   "source": [
    "all_data_227 = cro_227_v0.append(cro_227_v1)"
   ]
  },
  {
   "cell_type": "code",
   "execution_count": 7,
   "metadata": {},
   "outputs": [],
   "source": [
    "# CRO 239\n",
    "# V0\n",
    "cro_239_v0 = unique_visitors['CRO 239 V0'].merge(thank_yous['CRO 239 V0'])\n",
    "cro_239_v0 = cro_239_v0.drop('datetime_friendly',axis=1)\n",
    "cro_239_v0.columns = ['date','unique_visitors','thank_yous']\n",
    "# V1\n",
    "cro_239_v1 = unique_visitors['CRO 239 V1'].merge(thank_yous['CRO 239 V1'])\n",
    "cro_239_v1 = cro_239_v1.drop('datetime_friendly',axis=1)\n",
    "cro_239_v1.columns = ['date','unique_visitors','thank_yous']\n",
    "\n",
    "cro_239_v0['cvr'] = (cro_239_v0['thank_yous'] / cro_239_v0['unique_visitors'])*100\n",
    "cro_239_v1['cvr'] = (cro_239_v1['thank_yous'] / cro_239_v1['unique_visitors'])*100\n",
    "cro_239_v0['test'] = 'cro_239_v0'\n",
    "cro_239_v1['test'] = 'cro_239_v1'\n",
    "\n",
    "\n",
    "all_data_239 = cro_239_v0.append(cro_239_v1)"
   ]
  },
  {
   "cell_type": "code",
   "execution_count": 8,
   "metadata": {},
   "outputs": [],
   "source": [
    "all_data = all_data_227.append(all_data_239)"
   ]
  },
  {
   "cell_type": "code",
   "execution_count": 9,
   "metadata": {},
   "outputs": [],
   "source": [
    "all_data.to_csv('poc_data.csv')"
   ]
  },
  {
   "cell_type": "code",
   "execution_count": 10,
   "metadata": {},
   "outputs": [
    {
     "data": {
      "text/html": [
       "<div>\n",
       "<style scoped>\n",
       "    .dataframe tbody tr th:only-of-type {\n",
       "        vertical-align: middle;\n",
       "    }\n",
       "\n",
       "    .dataframe tbody tr th {\n",
       "        vertical-align: top;\n",
       "    }\n",
       "\n",
       "    .dataframe thead th {\n",
       "        text-align: right;\n",
       "    }\n",
       "</style>\n",
       "<table border=\"1\" class=\"dataframe\">\n",
       "  <thead>\n",
       "    <tr style=\"text-align: right;\">\n",
       "      <th></th>\n",
       "      <th>date</th>\n",
       "      <th>unique_visitors</th>\n",
       "      <th>thank_yous</th>\n",
       "      <th>cvr</th>\n",
       "      <th>test</th>\n",
       "    </tr>\n",
       "  </thead>\n",
       "  <tbody>\n",
       "    <tr>\n",
       "      <th>0</th>\n",
       "      <td>2018-06-01</td>\n",
       "      <td>37225</td>\n",
       "      <td>915</td>\n",
       "      <td>2.458026</td>\n",
       "      <td>cro_227_v0</td>\n",
       "    </tr>\n",
       "    <tr>\n",
       "      <th>1</th>\n",
       "      <td>2018-06-02</td>\n",
       "      <td>26467</td>\n",
       "      <td>653</td>\n",
       "      <td>2.467223</td>\n",
       "      <td>cro_227_v0</td>\n",
       "    </tr>\n",
       "    <tr>\n",
       "      <th>2</th>\n",
       "      <td>2018-06-03</td>\n",
       "      <td>25856</td>\n",
       "      <td>742</td>\n",
       "      <td>2.869740</td>\n",
       "      <td>cro_227_v0</td>\n",
       "    </tr>\n",
       "    <tr>\n",
       "      <th>3</th>\n",
       "      <td>2018-06-04</td>\n",
       "      <td>42149</td>\n",
       "      <td>1056</td>\n",
       "      <td>2.505398</td>\n",
       "      <td>cro_227_v0</td>\n",
       "    </tr>\n",
       "    <tr>\n",
       "      <th>4</th>\n",
       "      <td>2018-06-05</td>\n",
       "      <td>40725</td>\n",
       "      <td>1008</td>\n",
       "      <td>2.475138</td>\n",
       "      <td>cro_227_v0</td>\n",
       "    </tr>\n",
       "    <tr>\n",
       "      <th>5</th>\n",
       "      <td>2018-06-06</td>\n",
       "      <td>41322</td>\n",
       "      <td>953</td>\n",
       "      <td>2.306278</td>\n",
       "      <td>cro_227_v0</td>\n",
       "    </tr>\n",
       "    <tr>\n",
       "      <th>6</th>\n",
       "      <td>2018-06-07</td>\n",
       "      <td>46352</td>\n",
       "      <td>1062</td>\n",
       "      <td>2.291163</td>\n",
       "      <td>cro_227_v0</td>\n",
       "    </tr>\n",
       "    <tr>\n",
       "      <th>7</th>\n",
       "      <td>2018-06-08</td>\n",
       "      <td>44355</td>\n",
       "      <td>1055</td>\n",
       "      <td>2.378537</td>\n",
       "      <td>cro_227_v0</td>\n",
       "    </tr>\n",
       "    <tr>\n",
       "      <th>8</th>\n",
       "      <td>2018-06-09</td>\n",
       "      <td>30170</td>\n",
       "      <td>734</td>\n",
       "      <td>2.432880</td>\n",
       "      <td>cro_227_v0</td>\n",
       "    </tr>\n",
       "    <tr>\n",
       "      <th>9</th>\n",
       "      <td>2018-06-10</td>\n",
       "      <td>29669</td>\n",
       "      <td>707</td>\n",
       "      <td>2.382959</td>\n",
       "      <td>cro_227_v0</td>\n",
       "    </tr>\n",
       "    <tr>\n",
       "      <th>10</th>\n",
       "      <td>2018-06-11</td>\n",
       "      <td>48490</td>\n",
       "      <td>1122</td>\n",
       "      <td>2.313879</td>\n",
       "      <td>cro_227_v0</td>\n",
       "    </tr>\n",
       "    <tr>\n",
       "      <th>11</th>\n",
       "      <td>2018-06-12</td>\n",
       "      <td>47121</td>\n",
       "      <td>977</td>\n",
       "      <td>2.073386</td>\n",
       "      <td>cro_227_v0</td>\n",
       "    </tr>\n",
       "    <tr>\n",
       "      <th>12</th>\n",
       "      <td>2018-06-13</td>\n",
       "      <td>46191</td>\n",
       "      <td>1006</td>\n",
       "      <td>2.177913</td>\n",
       "      <td>cro_227_v0</td>\n",
       "    </tr>\n",
       "    <tr>\n",
       "      <th>13</th>\n",
       "      <td>2018-06-14</td>\n",
       "      <td>45521</td>\n",
       "      <td>1068</td>\n",
       "      <td>2.346170</td>\n",
       "      <td>cro_227_v0</td>\n",
       "    </tr>\n",
       "    <tr>\n",
       "      <th>14</th>\n",
       "      <td>2018-06-15</td>\n",
       "      <td>44873</td>\n",
       "      <td>1000</td>\n",
       "      <td>2.228512</td>\n",
       "      <td>cro_227_v0</td>\n",
       "    </tr>\n",
       "    <tr>\n",
       "      <th>15</th>\n",
       "      <td>2018-06-16</td>\n",
       "      <td>30792</td>\n",
       "      <td>716</td>\n",
       "      <td>2.325279</td>\n",
       "      <td>cro_227_v0</td>\n",
       "    </tr>\n",
       "    <tr>\n",
       "      <th>16</th>\n",
       "      <td>2018-06-17</td>\n",
       "      <td>28798</td>\n",
       "      <td>677</td>\n",
       "      <td>2.350858</td>\n",
       "      <td>cro_227_v0</td>\n",
       "    </tr>\n",
       "    <tr>\n",
       "      <th>17</th>\n",
       "      <td>2018-06-18</td>\n",
       "      <td>50463</td>\n",
       "      <td>1127</td>\n",
       "      <td>2.233319</td>\n",
       "      <td>cro_227_v0</td>\n",
       "    </tr>\n",
       "    <tr>\n",
       "      <th>18</th>\n",
       "      <td>2018-06-19</td>\n",
       "      <td>49044</td>\n",
       "      <td>1010</td>\n",
       "      <td>2.059375</td>\n",
       "      <td>cro_227_v0</td>\n",
       "    </tr>\n",
       "    <tr>\n",
       "      <th>19</th>\n",
       "      <td>2018-06-20</td>\n",
       "      <td>47995</td>\n",
       "      <td>1025</td>\n",
       "      <td>2.135639</td>\n",
       "      <td>cro_227_v0</td>\n",
       "    </tr>\n",
       "    <tr>\n",
       "      <th>20</th>\n",
       "      <td>2018-06-21</td>\n",
       "      <td>49787</td>\n",
       "      <td>1064</td>\n",
       "      <td>2.137104</td>\n",
       "      <td>cro_227_v0</td>\n",
       "    </tr>\n",
       "    <tr>\n",
       "      <th>21</th>\n",
       "      <td>2018-06-22</td>\n",
       "      <td>44711</td>\n",
       "      <td>951</td>\n",
       "      <td>2.126993</td>\n",
       "      <td>cro_227_v0</td>\n",
       "    </tr>\n",
       "    <tr>\n",
       "      <th>22</th>\n",
       "      <td>2018-06-23</td>\n",
       "      <td>32433</td>\n",
       "      <td>729</td>\n",
       "      <td>2.247711</td>\n",
       "      <td>cro_227_v0</td>\n",
       "    </tr>\n",
       "    <tr>\n",
       "      <th>23</th>\n",
       "      <td>2018-06-24</td>\n",
       "      <td>30743</td>\n",
       "      <td>691</td>\n",
       "      <td>2.247666</td>\n",
       "      <td>cro_227_v0</td>\n",
       "    </tr>\n",
       "    <tr>\n",
       "      <th>24</th>\n",
       "      <td>2018-06-25</td>\n",
       "      <td>49837</td>\n",
       "      <td>1084</td>\n",
       "      <td>2.175091</td>\n",
       "      <td>cro_227_v0</td>\n",
       "    </tr>\n",
       "    <tr>\n",
       "      <th>25</th>\n",
       "      <td>2018-06-26</td>\n",
       "      <td>46468</td>\n",
       "      <td>967</td>\n",
       "      <td>2.081002</td>\n",
       "      <td>cro_227_v0</td>\n",
       "    </tr>\n",
       "    <tr>\n",
       "      <th>26</th>\n",
       "      <td>2018-06-27</td>\n",
       "      <td>45163</td>\n",
       "      <td>1065</td>\n",
       "      <td>2.358125</td>\n",
       "      <td>cro_227_v0</td>\n",
       "    </tr>\n",
       "    <tr>\n",
       "      <th>27</th>\n",
       "      <td>2018-06-28</td>\n",
       "      <td>50295</td>\n",
       "      <td>1174</td>\n",
       "      <td>2.334228</td>\n",
       "      <td>cro_227_v0</td>\n",
       "    </tr>\n",
       "    <tr>\n",
       "      <th>28</th>\n",
       "      <td>2018-06-29</td>\n",
       "      <td>47111</td>\n",
       "      <td>1107</td>\n",
       "      <td>2.349770</td>\n",
       "      <td>cro_227_v0</td>\n",
       "    </tr>\n",
       "    <tr>\n",
       "      <th>29</th>\n",
       "      <td>2018-06-30</td>\n",
       "      <td>33071</td>\n",
       "      <td>847</td>\n",
       "      <td>2.561156</td>\n",
       "      <td>cro_227_v0</td>\n",
       "    </tr>\n",
       "    <tr>\n",
       "      <th>...</th>\n",
       "      <td>...</td>\n",
       "      <td>...</td>\n",
       "      <td>...</td>\n",
       "      <td>...</td>\n",
       "      <td>...</td>\n",
       "    </tr>\n",
       "    <tr>\n",
       "      <th>0</th>\n",
       "      <td>2018-06-01</td>\n",
       "      <td>2576</td>\n",
       "      <td>47</td>\n",
       "      <td>1.824534</td>\n",
       "      <td>cro_239_v1</td>\n",
       "    </tr>\n",
       "    <tr>\n",
       "      <th>1</th>\n",
       "      <td>2018-06-02</td>\n",
       "      <td>1629</td>\n",
       "      <td>40</td>\n",
       "      <td>2.455494</td>\n",
       "      <td>cro_239_v1</td>\n",
       "    </tr>\n",
       "    <tr>\n",
       "      <th>2</th>\n",
       "      <td>2018-06-03</td>\n",
       "      <td>1723</td>\n",
       "      <td>39</td>\n",
       "      <td>2.263494</td>\n",
       "      <td>cro_239_v1</td>\n",
       "    </tr>\n",
       "    <tr>\n",
       "      <th>3</th>\n",
       "      <td>2018-06-04</td>\n",
       "      <td>3313</td>\n",
       "      <td>58</td>\n",
       "      <td>1.750679</td>\n",
       "      <td>cro_239_v1</td>\n",
       "    </tr>\n",
       "    <tr>\n",
       "      <th>4</th>\n",
       "      <td>2018-06-05</td>\n",
       "      <td>3572</td>\n",
       "      <td>77</td>\n",
       "      <td>2.155655</td>\n",
       "      <td>cro_239_v1</td>\n",
       "    </tr>\n",
       "    <tr>\n",
       "      <th>5</th>\n",
       "      <td>2018-06-06</td>\n",
       "      <td>5679</td>\n",
       "      <td>154</td>\n",
       "      <td>2.711745</td>\n",
       "      <td>cro_239_v1</td>\n",
       "    </tr>\n",
       "    <tr>\n",
       "      <th>6</th>\n",
       "      <td>2018-06-07</td>\n",
       "      <td>17179</td>\n",
       "      <td>510</td>\n",
       "      <td>2.968741</td>\n",
       "      <td>cro_239_v1</td>\n",
       "    </tr>\n",
       "    <tr>\n",
       "      <th>7</th>\n",
       "      <td>2018-06-08</td>\n",
       "      <td>16072</td>\n",
       "      <td>578</td>\n",
       "      <td>3.596317</td>\n",
       "      <td>cro_239_v1</td>\n",
       "    </tr>\n",
       "    <tr>\n",
       "      <th>8</th>\n",
       "      <td>2018-06-09</td>\n",
       "      <td>10607</td>\n",
       "      <td>361</td>\n",
       "      <td>3.403413</td>\n",
       "      <td>cro_239_v1</td>\n",
       "    </tr>\n",
       "    <tr>\n",
       "      <th>9</th>\n",
       "      <td>2018-06-10</td>\n",
       "      <td>10776</td>\n",
       "      <td>385</td>\n",
       "      <td>3.572754</td>\n",
       "      <td>cro_239_v1</td>\n",
       "    </tr>\n",
       "    <tr>\n",
       "      <th>10</th>\n",
       "      <td>2018-06-11</td>\n",
       "      <td>17120</td>\n",
       "      <td>585</td>\n",
       "      <td>3.417056</td>\n",
       "      <td>cro_239_v1</td>\n",
       "    </tr>\n",
       "    <tr>\n",
       "      <th>11</th>\n",
       "      <td>2018-06-12</td>\n",
       "      <td>17146</td>\n",
       "      <td>514</td>\n",
       "      <td>2.997784</td>\n",
       "      <td>cro_239_v1</td>\n",
       "    </tr>\n",
       "    <tr>\n",
       "      <th>12</th>\n",
       "      <td>2018-06-13</td>\n",
       "      <td>14376</td>\n",
       "      <td>484</td>\n",
       "      <td>3.366722</td>\n",
       "      <td>cro_239_v1</td>\n",
       "    </tr>\n",
       "    <tr>\n",
       "      <th>13</th>\n",
       "      <td>2018-06-14</td>\n",
       "      <td>5089</td>\n",
       "      <td>153</td>\n",
       "      <td>3.006485</td>\n",
       "      <td>cro_239_v1</td>\n",
       "    </tr>\n",
       "    <tr>\n",
       "      <th>14</th>\n",
       "      <td>2018-06-15</td>\n",
       "      <td>4175</td>\n",
       "      <td>112</td>\n",
       "      <td>2.682635</td>\n",
       "      <td>cro_239_v1</td>\n",
       "    </tr>\n",
       "    <tr>\n",
       "      <th>15</th>\n",
       "      <td>2018-06-16</td>\n",
       "      <td>2368</td>\n",
       "      <td>57</td>\n",
       "      <td>2.407095</td>\n",
       "      <td>cro_239_v1</td>\n",
       "    </tr>\n",
       "    <tr>\n",
       "      <th>16</th>\n",
       "      <td>2018-06-17</td>\n",
       "      <td>1901</td>\n",
       "      <td>40</td>\n",
       "      <td>2.104156</td>\n",
       "      <td>cro_239_v1</td>\n",
       "    </tr>\n",
       "    <tr>\n",
       "      <th>17</th>\n",
       "      <td>2018-06-18</td>\n",
       "      <td>3754</td>\n",
       "      <td>81</td>\n",
       "      <td>2.157698</td>\n",
       "      <td>cro_239_v1</td>\n",
       "    </tr>\n",
       "    <tr>\n",
       "      <th>18</th>\n",
       "      <td>2018-06-19</td>\n",
       "      <td>3330</td>\n",
       "      <td>64</td>\n",
       "      <td>1.921922</td>\n",
       "      <td>cro_239_v1</td>\n",
       "    </tr>\n",
       "    <tr>\n",
       "      <th>19</th>\n",
       "      <td>2018-06-20</td>\n",
       "      <td>3108</td>\n",
       "      <td>65</td>\n",
       "      <td>2.091377</td>\n",
       "      <td>cro_239_v1</td>\n",
       "    </tr>\n",
       "    <tr>\n",
       "      <th>20</th>\n",
       "      <td>2018-06-21</td>\n",
       "      <td>3206</td>\n",
       "      <td>47</td>\n",
       "      <td>1.466001</td>\n",
       "      <td>cro_239_v1</td>\n",
       "    </tr>\n",
       "    <tr>\n",
       "      <th>21</th>\n",
       "      <td>2018-06-22</td>\n",
       "      <td>2734</td>\n",
       "      <td>50</td>\n",
       "      <td>1.828822</td>\n",
       "      <td>cro_239_v1</td>\n",
       "    </tr>\n",
       "    <tr>\n",
       "      <th>22</th>\n",
       "      <td>2018-06-23</td>\n",
       "      <td>1637</td>\n",
       "      <td>34</td>\n",
       "      <td>2.076970</td>\n",
       "      <td>cro_239_v1</td>\n",
       "    </tr>\n",
       "    <tr>\n",
       "      <th>23</th>\n",
       "      <td>2018-06-24</td>\n",
       "      <td>1406</td>\n",
       "      <td>31</td>\n",
       "      <td>2.204836</td>\n",
       "      <td>cro_239_v1</td>\n",
       "    </tr>\n",
       "    <tr>\n",
       "      <th>24</th>\n",
       "      <td>2018-06-25</td>\n",
       "      <td>2683</td>\n",
       "      <td>41</td>\n",
       "      <td>1.528140</td>\n",
       "      <td>cro_239_v1</td>\n",
       "    </tr>\n",
       "    <tr>\n",
       "      <th>25</th>\n",
       "      <td>2018-06-26</td>\n",
       "      <td>2499</td>\n",
       "      <td>33</td>\n",
       "      <td>1.320528</td>\n",
       "      <td>cro_239_v1</td>\n",
       "    </tr>\n",
       "    <tr>\n",
       "      <th>26</th>\n",
       "      <td>2018-06-27</td>\n",
       "      <td>2307</td>\n",
       "      <td>33</td>\n",
       "      <td>1.430429</td>\n",
       "      <td>cro_239_v1</td>\n",
       "    </tr>\n",
       "    <tr>\n",
       "      <th>27</th>\n",
       "      <td>2018-06-28</td>\n",
       "      <td>2197</td>\n",
       "      <td>38</td>\n",
       "      <td>1.729631</td>\n",
       "      <td>cro_239_v1</td>\n",
       "    </tr>\n",
       "    <tr>\n",
       "      <th>28</th>\n",
       "      <td>2018-06-29</td>\n",
       "      <td>2193</td>\n",
       "      <td>37</td>\n",
       "      <td>1.687187</td>\n",
       "      <td>cro_239_v1</td>\n",
       "    </tr>\n",
       "    <tr>\n",
       "      <th>29</th>\n",
       "      <td>2018-06-30</td>\n",
       "      <td>1357</td>\n",
       "      <td>22</td>\n",
       "      <td>1.621223</td>\n",
       "      <td>cro_239_v1</td>\n",
       "    </tr>\n",
       "  </tbody>\n",
       "</table>\n",
       "<p>120 rows × 5 columns</p>\n",
       "</div>"
      ],
      "text/plain": [
       "         date  unique_visitors  thank_yous       cvr        test\n",
       "0  2018-06-01            37225         915  2.458026  cro_227_v0\n",
       "1  2018-06-02            26467         653  2.467223  cro_227_v0\n",
       "2  2018-06-03            25856         742  2.869740  cro_227_v0\n",
       "3  2018-06-04            42149        1056  2.505398  cro_227_v0\n",
       "4  2018-06-05            40725        1008  2.475138  cro_227_v0\n",
       "5  2018-06-06            41322         953  2.306278  cro_227_v0\n",
       "6  2018-06-07            46352        1062  2.291163  cro_227_v0\n",
       "7  2018-06-08            44355        1055  2.378537  cro_227_v0\n",
       "8  2018-06-09            30170         734  2.432880  cro_227_v0\n",
       "9  2018-06-10            29669         707  2.382959  cro_227_v0\n",
       "10 2018-06-11            48490        1122  2.313879  cro_227_v0\n",
       "11 2018-06-12            47121         977  2.073386  cro_227_v0\n",
       "12 2018-06-13            46191        1006  2.177913  cro_227_v0\n",
       "13 2018-06-14            45521        1068  2.346170  cro_227_v0\n",
       "14 2018-06-15            44873        1000  2.228512  cro_227_v0\n",
       "15 2018-06-16            30792         716  2.325279  cro_227_v0\n",
       "16 2018-06-17            28798         677  2.350858  cro_227_v0\n",
       "17 2018-06-18            50463        1127  2.233319  cro_227_v0\n",
       "18 2018-06-19            49044        1010  2.059375  cro_227_v0\n",
       "19 2018-06-20            47995        1025  2.135639  cro_227_v0\n",
       "20 2018-06-21            49787        1064  2.137104  cro_227_v0\n",
       "21 2018-06-22            44711         951  2.126993  cro_227_v0\n",
       "22 2018-06-23            32433         729  2.247711  cro_227_v0\n",
       "23 2018-06-24            30743         691  2.247666  cro_227_v0\n",
       "24 2018-06-25            49837        1084  2.175091  cro_227_v0\n",
       "25 2018-06-26            46468         967  2.081002  cro_227_v0\n",
       "26 2018-06-27            45163        1065  2.358125  cro_227_v0\n",
       "27 2018-06-28            50295        1174  2.334228  cro_227_v0\n",
       "28 2018-06-29            47111        1107  2.349770  cro_227_v0\n",
       "29 2018-06-30            33071         847  2.561156  cro_227_v0\n",
       "..        ...              ...         ...       ...         ...\n",
       "0  2018-06-01             2576          47  1.824534  cro_239_v1\n",
       "1  2018-06-02             1629          40  2.455494  cro_239_v1\n",
       "2  2018-06-03             1723          39  2.263494  cro_239_v1\n",
       "3  2018-06-04             3313          58  1.750679  cro_239_v1\n",
       "4  2018-06-05             3572          77  2.155655  cro_239_v1\n",
       "5  2018-06-06             5679         154  2.711745  cro_239_v1\n",
       "6  2018-06-07            17179         510  2.968741  cro_239_v1\n",
       "7  2018-06-08            16072         578  3.596317  cro_239_v1\n",
       "8  2018-06-09            10607         361  3.403413  cro_239_v1\n",
       "9  2018-06-10            10776         385  3.572754  cro_239_v1\n",
       "10 2018-06-11            17120         585  3.417056  cro_239_v1\n",
       "11 2018-06-12            17146         514  2.997784  cro_239_v1\n",
       "12 2018-06-13            14376         484  3.366722  cro_239_v1\n",
       "13 2018-06-14             5089         153  3.006485  cro_239_v1\n",
       "14 2018-06-15             4175         112  2.682635  cro_239_v1\n",
       "15 2018-06-16             2368          57  2.407095  cro_239_v1\n",
       "16 2018-06-17             1901          40  2.104156  cro_239_v1\n",
       "17 2018-06-18             3754          81  2.157698  cro_239_v1\n",
       "18 2018-06-19             3330          64  1.921922  cro_239_v1\n",
       "19 2018-06-20             3108          65  2.091377  cro_239_v1\n",
       "20 2018-06-21             3206          47  1.466001  cro_239_v1\n",
       "21 2018-06-22             2734          50  1.828822  cro_239_v1\n",
       "22 2018-06-23             1637          34  2.076970  cro_239_v1\n",
       "23 2018-06-24             1406          31  2.204836  cro_239_v1\n",
       "24 2018-06-25             2683          41  1.528140  cro_239_v1\n",
       "25 2018-06-26             2499          33  1.320528  cro_239_v1\n",
       "26 2018-06-27             2307          33  1.430429  cro_239_v1\n",
       "27 2018-06-28             2197          38  1.729631  cro_239_v1\n",
       "28 2018-06-29             2193          37  1.687187  cro_239_v1\n",
       "29 2018-06-30             1357          22  1.621223  cro_239_v1\n",
       "\n",
       "[120 rows x 5 columns]"
      ]
     },
     "execution_count": 10,
     "metadata": {},
     "output_type": "execute_result"
    }
   ],
   "source": [
    "all_data"
   ]
  },
  {
   "cell_type": "code",
   "execution_count": null,
   "metadata": {},
   "outputs": [],
   "source": []
  }
 ],
 "metadata": {
  "kernelspec": {
   "display_name": "Python 3",
   "language": "python",
   "name": "python3"
  },
  "language_info": {
   "codemirror_mode": {
    "name": "ipython",
    "version": 3
   },
   "file_extension": ".py",
   "mimetype": "text/x-python",
   "name": "python",
   "nbconvert_exporter": "python",
   "pygments_lexer": "ipython3",
   "version": "3.6.3"
  }
 },
 "nbformat": 4,
 "nbformat_minor": 2
}
